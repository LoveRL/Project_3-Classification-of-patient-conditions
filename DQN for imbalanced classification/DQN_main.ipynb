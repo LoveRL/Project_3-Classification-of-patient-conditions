{
 "cells": [
  {
   "cell_type": "code",
   "execution_count": null,
   "metadata": {},
   "outputs": [],
   "source": [
    "import DQN\n",
    "import tqdm as tq\n",
    "from Environment import *\n",
    "\n",
    "env = environment()\n",
    "agent = DQN.Agent(25, 8)\n",
    "\n",
    "# train part\n",
    "for epi in tq.tqdm(range(100000)) :\n",
    "    \n",
    "    now_state = env.reset()\n",
    "    done = False\n",
    "    \n",
    "    while not done :\n",
    "        \n",
    "        action = agent.get_action(now_state, epi)\n",
    "\n",
    "        next_state, reward, done = env.step(action)\n",
    "        \n",
    "        agent.memorize(now_state, action, next_state, reward)\n",
    "        \n",
    "        agent.update_q_function()\n",
    "        \n",
    "        if done : \n",
    "            break\n",
    "        \n",
    "        now_state = next_state"
   ]
  },
  {
   "cell_type": "code",
   "execution_count": null,
   "metadata": {},
   "outputs": [],
   "source": [
    "# test part\n",
    "import os\n",
    "import torch\n",
    "import numpy as np\n",
    "import sklearn.metrics as metrics\n",
    "\n",
    "os.chdir('C:\\\\Users\\\\seo\\\\Desktop\\\\Lab\\\\Projects\\\\정부) 재활로봇\\\\임상 data\\\\lightgbm')\n",
    "test_data = np.loadtxt('test_1.csv', delimiter=',', dtype=np.float32)\n",
    "np.random.shuffle(test_data)\n",
    "\n",
    "test_state = test_data[:, :-1]\n",
    "test_label = test_data[:, -1].flatten()\n",
    "estimated_label = []\n",
    "\n",
    "for idx in tq.tqdm(range(len(test_data))) :\n",
    "    state = torch.unsqueeze(torch.from_numpy(test_state[idx]).type(torch.FloatTensor).cuda(), 0)\n",
    "    action = agent.test(state, 1)\n",
    "    estimated_label.append(action.cpu().numpy()[0])\n",
    "\n",
    "print('Accuracy Rate')\n",
    "print(metrics.accuracy_score(test_label, estimated_label), end='\\n\\n')\n",
    "\n",
    "print('Confusion Matrix')\n",
    "print(metrics.confusion_matrix(test_label, estimated_label), end='\\n\\n')\n",
    "\n",
    "print('Classification Report')\n",
    "target_names = [str(i)+' minor' if i in [1,2,3] else str(i)+' Major' for i in range(8)]\n",
    "print(metrics.classification_report(test_label, estimated_label, target_names=target_names))"
   ]
  }
 ],
 "metadata": {
  "kernelspec": {
   "display_name": "Python 3",
   "language": "python",
   "name": "python3"
  },
  "language_info": {
   "codemirror_mode": {
    "name": "ipython",
    "version": 3
   },
   "file_extension": ".py",
   "mimetype": "text/x-python",
   "name": "python",
   "nbconvert_exporter": "python",
   "pygments_lexer": "ipython3",
   "version": "3.6.7"
  }
 },
 "nbformat": 4,
 "nbformat_minor": 2
}
